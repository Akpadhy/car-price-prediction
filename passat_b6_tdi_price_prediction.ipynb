{
 "cells": [
  {
   "cell_type": "markdown",
   "metadata": {},
   "source": [
    "# Use case:\n",
    "## Predict best price for VW Passat B6 TDI basing on real offers"
   ]
  },
  {
   "cell_type": "markdown",
   "metadata": {},
   "source": [
    "### Settings"
   ]
  },
  {
   "cell_type": "code",
   "execution_count": 1,
   "metadata": {},
   "outputs": [],
   "source": [
    "percent_of_test_data = 25\n",
    "main_url = 'https://www.otomoto.pl/osobowe/volkswagen/passat/b6-2005-2010/?search%5Bfilter_enum_fuel_type%5D%5B0%5D=diesel&search%5Bfilter_enum_damaged%5D=0&search%5Bfilter_enum_registered%5D=1&search%5Bcountry%5D='"
   ]
  },
  {
   "cell_type": "markdown",
   "metadata": {},
   "source": [
    "### Prepare environment"
   ]
  },
  {
   "cell_type": "code",
   "execution_count": 2,
   "metadata": {
    "collapsed": true
   },
   "outputs": [],
   "source": [
    "import sys\n",
    "sys.path.append('/Users/tomek/OneDrive/Projects/Machine Learning/car-price-prediction')\n",
    "\n",
    "import urllib.request\n",
    "import numpy as np\n",
    "import matplotlib.pyplot as plt\n",
    "from sklearn import datasets, linear_model\n",
    "from sklearn.metrics import mean_squared_error, r2_score\n",
    "import car_price_prediction"
   ]
  },
  {
   "cell_type": "markdown",
   "metadata": {},
   "source": [
    "### Count pages with offers"
   ]
  },
  {
   "cell_type": "code",
   "execution_count": 3,
   "metadata": {},
   "outputs": [
    {
     "name": "stdout",
     "output_type": "stream",
     "text": [
      "Found 28 pages\n"
     ]
    }
   ],
   "source": [
    "pages = car_price_prediction.count_pages(main_url)\n",
    "print(\"Found %d pages\" % pages)"
   ]
  },
  {
   "cell_type": "markdown",
   "metadata": {},
   "source": [
    "### Collect samples from those offers"
   ]
  },
  {
   "cell_type": "code",
   "execution_count": 4,
   "metadata": {
    "collapsed": false
   },
   "outputs": [
    {
     "name": "stdout",
     "output_type": "stream",
     "text": [
      "\r\tParsing page: 1"
     ]
    },
    {
     "name": "stdout",
     "output_type": "stream",
     "text": [
      "\r\tParsing page: 2"
     ]
    },
    {
     "name": "stdout",
     "output_type": "stream",
     "text": [
      "\r\tParsing page: 3"
     ]
    },
    {
     "name": "stdout",
     "output_type": "stream",
     "text": [
      "\r\tParsing page: 4"
     ]
    },
    {
     "name": "stdout",
     "output_type": "stream",
     "text": [
      "\r\tParsing page: 5"
     ]
    },
    {
     "name": "stdout",
     "output_type": "stream",
     "text": [
      "\r\tParsing page: 6"
     ]
    },
    {
     "name": "stdout",
     "output_type": "stream",
     "text": [
      "\r\tParsing page: 7"
     ]
    },
    {
     "name": "stdout",
     "output_type": "stream",
     "text": [
      "\r\tParsing page: 8"
     ]
    },
    {
     "name": "stdout",
     "output_type": "stream",
     "text": [
      "\r\tParsing page: 9"
     ]
    },
    {
     "name": "stdout",
     "output_type": "stream",
     "text": [
      "\r\tParsing page: 10"
     ]
    },
    {
     "name": "stdout",
     "output_type": "stream",
     "text": [
      "\r\tParsing page: 11"
     ]
    },
    {
     "name": "stdout",
     "output_type": "stream",
     "text": [
      "\r\tParsing page: 12"
     ]
    },
    {
     "name": "stdout",
     "output_type": "stream",
     "text": [
      "\r\tParsing page: 13"
     ]
    },
    {
     "name": "stdout",
     "output_type": "stream",
     "text": [
      "\r\tParsing page: 14"
     ]
    },
    {
     "name": "stdout",
     "output_type": "stream",
     "text": [
      "\r\tParsing page: 15"
     ]
    },
    {
     "name": "stdout",
     "output_type": "stream",
     "text": [
      "\r\tParsing page: 16"
     ]
    },
    {
     "name": "stdout",
     "output_type": "stream",
     "text": [
      "\r\tParsing page: 17"
     ]
    },
    {
     "name": "stdout",
     "output_type": "stream",
     "text": [
      "\r\tParsing page: 18"
     ]
    },
    {
     "name": "stdout",
     "output_type": "stream",
     "text": [
      "\r\tParsing page: 19"
     ]
    },
    {
     "name": "stdout",
     "output_type": "stream",
     "text": [
      "\r\tParsing page: 20"
     ]
    },
    {
     "name": "stdout",
     "output_type": "stream",
     "text": [
      "\r\tParsing page: 21"
     ]
    },
    {
     "name": "stdout",
     "output_type": "stream",
     "text": [
      "\r\tParsing page: 22"
     ]
    },
    {
     "name": "stdout",
     "output_type": "stream",
     "text": [
      "\r\tParsing page: 23"
     ]
    },
    {
     "name": "stdout",
     "output_type": "stream",
     "text": [
      "\r\tParsing page: 24"
     ]
    },
    {
     "name": "stdout",
     "output_type": "stream",
     "text": [
      "\r\tParsing page: 25"
     ]
    },
    {
     "name": "stdout",
     "output_type": "stream",
     "text": [
      "\r\tParsing page: 26"
     ]
    },
    {
     "name": "stdout",
     "output_type": "stream",
     "text": [
      "\r\tParsing page: 27"
     ]
    },
    {
     "name": "stdout",
     "output_type": "stream",
     "text": [
      "\r\tParsing page: 28"
     ]
    },
    {
     "name": "stdout",
     "output_type": "stream",
     "text": [
      "\n\nCollected 863 samples\n\nLast 10 samples:\n[year, mileage, capacity, price]\n[[   2007.  329500.    2000.   21500.]\n [   2008.  266000.    1968.   25900.]\n [   2006.  232922.    2000.   19900.]\n [   2006.  245341.    2000.   19900.]\n [   2008.  167000.    2000.   29900.]\n [   2007.  300000.    1900.   14000.]\n [   2007.  164000.    2000.   25900.]\n [   2008.  185600.    1968.   22500.]\n [   2010.  197486.    1968.   33700.]\n [   2008.  164000.    1968.   27500.]]\n"
     ]
    }
   ],
   "source": [
    "Xy = car_price_prediction.collect_data(main_url,pages)\n",
    "\n",
    "print(\"Collected %d samples\" % len(Xy))\n",
    "#print(Xy.shape)\n",
    "print(\"\\nLast 10 samples:\")\n",
    "print(\"[year, mileage, capacity, price]\")\n",
    "np.set_printoptions(precision=0)\n",
    "print(Xy[-10:])"
   ]
  },
  {
   "cell_type": "markdown",
   "metadata": {},
   "source": [
    "## Let's have some fun with that data"
   ]
  },
  {
   "cell_type": "code",
   "execution_count": 5,
   "metadata": {},
   "outputs": [
    {
     "data": {
      "image/png": "[encoded data removed]",
      "text/plain": [
       "<matplotlib.figure.Figure at 0x995fd90>"
      ]
     },
     "metadata": {},
     "output_type": "display_data"
    }
   ],
   "source": [
    "plt.figure(figsize=(18,6))\n",
    "plt.hist(Xy[:,1],30)\n",
    "plt.title(\"Mileage distribution\")\n",
    "plt.show()"
   ]
  },
  {
   "cell_type": "code",
   "execution_count": 6,
   "metadata": {},
   "outputs": [
    {
     "data": {
      "image/png": "[encoded data removed]",
      "text/plain": [
       "<matplotlib.figure.Figure at 0x995fad0>"
      ]
     },
     "metadata": {},
     "output_type": "display_data"
    }
   ],
   "source": [
    "plt.figure(figsize=(18,5))\n",
    "plt.hist(Xy[:,3],30)\n",
    "plt.title(\"Price distribution\")\n",
    "plt.show()"
   ]
  },
  {
   "cell_type": "code",
   "execution_count": 7,
   "metadata": {},
   "outputs": [
    {
     "data": {
      "image/png": "[encoded data removed]",
      "text/plain": [
       "<matplotlib.figure.Figure at 0x96e89f0>"
      ]
     },
     "metadata": {},
     "output_type": "display_data"
    }
   ],
   "source": [
    "plt.figure(figsize=(18,5))\n",
    "plt.title(\"Year vs price\")\n",
    "plt.xlabel(\"Year\")\n",
    "plt.ylabel(\"Price [PLN]\")\n",
    "plt.plot(Xy[:,0],Xy[:,3],\"x\")\n",
    "plt.show()"
   ]
  },
  {
   "cell_type": "code",
   "execution_count": 8,
   "metadata": {},
   "outputs": [],
   "source": [
    "plt.figure(figsize=(18,5))\n",
    "plt.title(\"Mileage vs price\")\n",
    "plt.xlabel(\"Mileage [km]\")\n",
    "plt.ylabel(\"Price [PLN]\")\n",
    "plt.plot(Xy[:,1],Xy[:,3],\"x\")\n",
    "plt.show()"
   ]
  },
  {
   "cell_type": "code",
   "execution_count": 9,
   "metadata": {},
   "outputs": [
    {
     "data": {
      "image/png": "[encoded data removed]",
      "text/plain": [
       "<matplotlib.figure.Figure at 0x9d2d2f0>"
      ]
     },
     "metadata": {},
     "output_type": "display_data"
    }
   ],
   "source": [
    "plt.figure(figsize=(18,5))\n",
    "plt.title(\"Mileage vs year\")\n",
    "plt.xlabel(\"Mileage [km]\")\n",
    "plt.ylabel(\"Year\")\n",
    "plt.plot(Xy[:,1],Xy[:,0],\"x\")\n",
    "plt.show()"
   ]
  },
  {
   "cell_type": "markdown",
   "metadata": {},
   "source": [
    "### Divide samples to train and test"
   ]
  },
  {
   "cell_type": "code",
   "execution_count": 10,
   "metadata": {},
   "outputs": [
    {
     "name": "stdout",
     "output_type": "stream",
     "text": [
      "Training samples: 647\nTest samples: 216\n"
     ]
    }
   ],
   "source": [
    "X_train, y_train, X_test, y_test = car_price_prediction.split_data(Xy, percent_of_test_data) \n",
    "\n",
    "print('Training samples: %d' % len(X_train))\n",
    "print('Test samples: %d' % len(X_test))\n"
   ]
  },
  {
   "cell_type": "markdown",
   "metadata": {},
   "source": [
    "### Let's train!"
   ]
  },
  {
   "cell_type": "code",
   "execution_count": 11,
   "metadata": {
    "collapsed": false
   },
   "outputs": [
    {
     "name": "stdout",
     "output_type": "stream",
     "text": [
      "Interceptor:  [-5024747.427572]\nCoefficients:  [[2517.580857 -0.023656 -0.012603]]\n"
     ]
    }
   ],
   "source": [
    "regr = linear_model.LinearRegression()\n",
    "regr.fit(X_train, y_train)\n",
    "\n",
    "np.set_printoptions(formatter={'float_kind': '{:f}'.format})\n",
    "print('Interceptor: ', regr.intercept_)\n",
    "print('Coefficients: ', regr.coef_)"
   ]
  },
  {
   "cell_type": "markdown",
   "metadata": {},
   "source": [
    "### Let's test"
   ]
  },
  {
   "cell_type": "code",
   "execution_count": 12,
   "metadata": {},
   "outputs": [
    {
     "name": "stdout",
     "output_type": "stream",
     "text": [
      "Variance score: 0.43\n"
     ]
    }
   ],
   "source": [
    "y_pred = regr.predict(X_test)\n",
    "\n",
    "#print(\"Mean squared error: %.2f\" % mean_squared_error(y_test, y_pred))\n",
    "print('Variance score: %.2f' % r2_score(y_test, y_pred))"
   ]
  },
  {
   "cell_type": "code",
   "execution_count": 16,
   "metadata": {},
   "outputs": [],
   "source": [
    "plt.figure(figsize=(18,5))\n",
    "plt.plot(y_test, label='Real prices')\n",
    "plt.plot(y_pred, label='Predicted prices')\n",
    "plt.xticks(())\n",
    "plt.ylabel(\"Price [PLN]\")\n",
    "plt.legend()\n",
    "plt.show()"
   ]
  },
  {
   "cell_type": "markdown",
   "metadata": {},
   "source": [
    "## What is the best price for... "
   ]
  },
  {
   "cell_type": "markdown",
   "metadata": {},
   "source": [
    "### Passat B6 1.9 TDI 2009 with 188 000 mileage"
   ]
  },
  {
   "cell_type": "markdown",
   "metadata": {},
   "source": [
    " - 1.6 = 1598\n",
    " - 1.9 = 1896\n",
    " - 2.0 = 1968"
   ]
  },
  {
   "cell_type": "code",
   "execution_count": 14,
   "metadata": {},
   "outputs": [
    {
     "name": "stdout",
     "output_type": "stream",
     "text": [
      "The best price for VW Passat B6 1.9 TDI 2009 with 188 000 mileage is 28790.55 PLN\n"
     ]
    }
   ],
   "source": [
    "price_pred = regr.predict([[2009,180000, 1896]])\n",
    "print('The best price for VW Passat B6 1.9 TDI 2009 with 188 000 mileage is %.2f PLN' % price_pred[0][0])"
   ]
  },
  {
   "cell_type": "markdown",
   "metadata": {},
   "source": [
    "### Passat B6 2.0 TDI 2006 with 288 000 mileage"
   ]
  },
  {
   "cell_type": "code",
   "execution_count": 15,
   "metadata": {},
   "outputs": [
    {
     "name": "stdout",
     "output_type": "stream",
     "text": [
      "The best price for VW Passat B6 2.0 TDI 2006 with 288 000 mileage is  18682.06 PLN\n"
     ]
    }
   ],
   "source": [
    "price_pred = regr.predict([[2006,288000, 1968]])\n",
    "print('The best price for VW Passat B6 2.0 TDI 2006 with 288 000 mileage is  %.2f PLN' % price_pred[0][0])"
   ]
  }
 ],
 "metadata": {
  "kernelspec": {
   "display_name": "Python 2",
   "language": "python",
   "name": "python2"
  },
  "language_info": {
   "codemirror_mode": {
    "name": "ipython",
    "version": 2
   },
   "file_extension": ".py",
   "mimetype": "text/x-python",
   "name": "python",
   "nbconvert_exporter": "python",
   "pygments_lexer": "ipython2",
   "version": "2.7.6"
  }
 },
 "nbformat": 4,
 "nbformat_minor": 0
}
