{
 "cells": [
  {
   "cell_type": "markdown",
   "metadata": {},
   "source": [
    "# Case study:\n",
    "## Predict best price for VW Passat B6 TDI basing on real offers"
   ]
  },
  {
   "cell_type": "markdown",
   "metadata": {},
   "source": [
    "### Settings"
   ]
  },
  {
   "cell_type": "code",
   "execution_count": 20,
   "metadata": {},
   "outputs": [],
   "source": [
    "percent_of_test_data = 40\n",
    "main_url = 'https://www.otomoto.pl/osobowe/volkswagen/passat/b6-2005-2010/?search%5Bfilter_enum_fuel_type%5D%5B0%5D=diesel&search%5Bfilter_enum_damaged%5D=0&search%5Bfilter_enum_registered%5D=1&search%5Bcountry%5D='"
   ]
  },
  {
   "cell_type": "markdown",
   "metadata": {},
   "source": [
    "### Prepare environment"
   ]
  },
  {
   "cell_type": "code",
   "execution_count": 21,
   "metadata": {
    "collapsed": true
   },
   "outputs": [],
   "source": [
    "import sys\n",
    "sys.path.append('/Users/tomek/OneDrive/Projects/Machine Learning/passat-b6-tdi')\n",
    "\n",
    "import urllib.request\n",
    "import numpy as np\n",
    "import matplotlib.pyplot as plt\n",
    "from sklearn import datasets, linear_model\n",
    "from sklearn.metrics import mean_squared_error, r2_score\n",
    "import car_price_prediction"
   ]
  },
  {
   "cell_type": "markdown",
   "metadata": {},
   "source": [
    "### Count pages with offers"
   ]
  },
  {
   "cell_type": "code",
   "execution_count": 22,
   "metadata": {},
   "outputs": [
    {
     "name": "stdout",
     "output_type": "stream",
     "text": [
      "Found 28 pages\n"
     ]
    }
   ],
   "source": [
    "pages = car_price_prediction.count_pages(main_url)\n",
    "print(\"Found %d pages\" % pages)"
   ]
  },
  {
   "cell_type": "markdown",
   "metadata": {},
   "source": [
    "### Collect samples from those pages"
   ]
  },
  {
   "cell_type": "code",
   "execution_count": 30,
   "metadata": {
    "collapsed": false
   },
   "outputs": [
    {
     "name": "stdout",
     "output_type": "stream",
     "text": [
      "\rParsing page: 1"
     ]
    },
    {
     "name": "stdout",
     "output_type": "stream",
     "text": [
      "\rParsing page: 2"
     ]
    },
    {
     "name": "stdout",
     "output_type": "stream",
     "text": [
      "\rParsing page: 3"
     ]
    },
    {
     "name": "stdout",
     "output_type": "stream",
     "text": [
      "\rParsing page: 4"
     ]
    },
    {
     "name": "stdout",
     "output_type": "stream",
     "text": [
      "\rParsing page: 5"
     ]
    },
    {
     "name": "stdout",
     "output_type": "stream",
     "text": [
      "\rParsing page: 6"
     ]
    },
    {
     "name": "stdout",
     "output_type": "stream",
     "text": [
      "\rParsing page: 7"
     ]
    },
    {
     "name": "stdout",
     "output_type": "stream",
     "text": [
      "\rParsing page: 8"
     ]
    },
    {
     "name": "stdout",
     "output_type": "stream",
     "text": [
      "\rParsing page: 9"
     ]
    },
    {
     "name": "stdout",
     "output_type": "stream",
     "text": [
      "\rParsing page: 10"
     ]
    },
    {
     "name": "stdout",
     "output_type": "stream",
     "text": [
      "\rParsing page: 11"
     ]
    },
    {
     "name": "stdout",
     "output_type": "stream",
     "text": [
      "\rParsing page: 12"
     ]
    },
    {
     "name": "stdout",
     "output_type": "stream",
     "text": [
      "\rParsing page: 13"
     ]
    },
    {
     "name": "stdout",
     "output_type": "stream",
     "text": [
      "\rParsing page: 14"
     ]
    },
    {
     "name": "stdout",
     "output_type": "stream",
     "text": [
      "\rParsing page: 15"
     ]
    },
    {
     "name": "stdout",
     "output_type": "stream",
     "text": [
      "\rParsing page: 16"
     ]
    },
    {
     "name": "stdout",
     "output_type": "stream",
     "text": [
      "\rParsing page: 17"
     ]
    },
    {
     "name": "stdout",
     "output_type": "stream",
     "text": [
      "\rParsing page: 18"
     ]
    },
    {
     "name": "stdout",
     "output_type": "stream",
     "text": [
      "\rParsing page: 19"
     ]
    },
    {
     "name": "stdout",
     "output_type": "stream",
     "text": [
      "\rParsing page: 20"
     ]
    },
    {
     "name": "stdout",
     "output_type": "stream",
     "text": [
      "\rParsing page: 21"
     ]
    },
    {
     "name": "stdout",
     "output_type": "stream",
     "text": [
      "\rParsing page: 22"
     ]
    },
    {
     "name": "stdout",
     "output_type": "stream",
     "text": [
      "\rParsing page: 23"
     ]
    },
    {
     "name": "stdout",
     "output_type": "stream",
     "text": [
      "\rParsing page: 24"
     ]
    },
    {
     "name": "stdout",
     "output_type": "stream",
     "text": [
      "\rParsing page: 25"
     ]
    },
    {
     "name": "stdout",
     "output_type": "stream",
     "text": [
      "\rParsing page: 26"
     ]
    },
    {
     "name": "stdout",
     "output_type": "stream",
     "text": [
      "\rParsing page: 27"
     ]
    },
    {
     "name": "stdout",
     "output_type": "stream",
     "text": [
      "\rParsing page: 28"
     ]
    },
    {
     "name": "stdout",
     "output_type": "stream",
     "text": [
      "\n\nCollected 869 samples\n\nLast 10 samples:\n[[   2008.  167000.    1968.   29900.]\n [   2007.  300000.    1896.   14000.]\n [   2007.  164000.    1968.   25900.]\n [   2007.  236000.    1896.   25900.]\n [   2008.  185600.    1968.   22500.]\n [   2010.  197486.    1968.   33700.]\n [   2008.  164000.    1968.   27500.]\n [   2010.  198700.    1968.   28900.]\n [   2005.  212000.    1896.   23000.]\n [   2007.  230000.    1968.   19000.]]\n"
     ]
    }
   ],
   "source": [
    "Xy = car_price_prediction.collect_data(main_url,pages)\n",
    "\n",
    "print(\"Collected %d samples\" % len(Xy))\n",
    "#print(Xy.shape)\n",
    "print(\"\\nLast 10 samples:\")\n",
    "np.set_printoptions(precision=0)\n",
    "print(Xy[-10:])"
   ]
  },
  {
   "cell_type": "markdown",
   "metadata": {},
   "source": [
    "### Divide samples to train and test"
   ]
  },
  {
   "cell_type": "code",
   "execution_count": 24,
   "metadata": {},
   "outputs": [
    {
     "name": "stdout",
     "output_type": "stream",
     "text": [
      "Training samples: 521\nTest samples: 348\n"
     ]
    }
   ],
   "source": [
    "X_train, y_train, X_test, y_test = car_price_prediction.split_data(Xy, percent_of_test_data) \n",
    "\n",
    "print('Training samples: %d' % len(X_train))\n",
    "print('Test samples: %d' % len(X_test))\n"
   ]
  },
  {
   "cell_type": "markdown",
   "metadata": {},
   "source": [
    "### Let's train!"
   ]
  },
  {
   "cell_type": "code",
   "execution_count": 29,
   "metadata": {
    "collapsed": false
   },
   "outputs": [
    {
     "name": "stdout",
     "output_type": "stream",
     "text": [
      "Interceptor:  [-5001628.499573]\nCoefficients:  [[2502.934000 -0.022212 2.995291]]\n"
     ]
    }
   ],
   "source": [
    "regr = linear_model.LinearRegression()\n",
    "regr.fit(X_train, y_train)\n",
    "\n",
    "np.set_printoptions(formatter={'float_kind': '{:f}'.format})\n",
    "print('Interceptor: ', regr.intercept_)\n",
    "print('Coefficients: ', regr.coef_)"
   ]
  },
  {
   "cell_type": "markdown",
   "metadata": {},
   "source": [
    "### Let's test"
   ]
  },
  {
   "cell_type": "code",
   "execution_count": 26,
   "metadata": {},
   "outputs": [
    {
     "name": "stdout",
     "output_type": "stream",
     "text": [
      "Variance score: 0.42\n"
     ]
    }
   ],
   "source": [
    "y_pred = regr.predict(X_test)\n",
    "\n",
    "#print(\"Mean squared error: %.2f\" % mean_squared_error(y_test, y_pred))\n",
    "print('Variance score: %.2f' % r2_score(y_test, y_pred))"
   ]
  },
  {
   "cell_type": "markdown",
   "metadata": {},
   "source": [
    "## What is the best price for... "
   ]
  },
  {
   "cell_type": "markdown",
   "metadata": {},
   "source": [
    "### Passat B6 1.9 TDI 2009 with 188 000 mileage"
   ]
  },
  {
   "cell_type": "code",
   "execution_count": 27,
   "metadata": {},
   "outputs": [
    {
     "name": "stdout",
     "output_type": "stream",
     "text": [
      "The best price for VW Passat B6 1.9 TDI 2009 with 188 000 mileage is 30949.73 PLN\n"
     ]
    }
   ],
   "source": [
    "price_pred = regr.predict([[2010,180000, car_price_prediction.Capacity.cap_1_9.value]])\n",
    "print('The best price for VW Passat B6 1.9 TDI 2009 with 188 000 mileage is '+str(round(price_pred[0][0],2))+' PLN')"
   ]
  },
  {
   "cell_type": "markdown",
   "metadata": {},
   "source": [
    "### Passat B6 2.0 TDI 2006 with 288 000 mileage"
   ]
  },
  {
   "cell_type": "code",
   "execution_count": 28,
   "metadata": {},
   "outputs": [
    {
     "name": "stdout",
     "output_type": "stream",
     "text": [
      "The best price for VW Passat B6 2.0 TDI 2006 with 288 000 mileage is 18754.75 PLN\n"
     ]
    }
   ],
   "source": [
    "price_pred = regr.predict([[2006,288000, car_price_prediction.Capacity.cap_2_0.value]])\n",
    "print('The best price for VW Passat B6 2.0 TDI 2006 with 288 000 mileage is '+str(round(price_pred[0][0],2))+' PLN')"
   ]
  }
 ],
 "metadata": {
  "kernelspec": {
   "display_name": "Python 2",
   "language": "python",
   "name": "python2"
  },
  "language_info": {
   "codemirror_mode": {
    "name": "ipython",
    "version": 2
   },
   "file_extension": ".py",
   "mimetype": "text/x-python",
   "name": "python",
   "nbconvert_exporter": "python",
   "pygments_lexer": "ipython2",
   "version": "2.7.6"
  }
 },
 "nbformat": 4,
 "nbformat_minor": 0
}
