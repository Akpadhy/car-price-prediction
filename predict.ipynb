{
 "cells": [
  {
   "cell_type": "code",
   "execution_count": 10,
   "metadata": {},
   "outputs": [],
   "source": [
    "percent_of_test_data = 30"
   ]
  },
  {
   "cell_type": "code",
   "execution_count": 11,
   "metadata": {
    "collapsed": true
   },
   "outputs": [],
   "source": [
    "import sys\n",
    "sys.path.append('/Users/tomek/OneDrive/Projects/Machine Learning/passat-b6-tdi')\n",
    "\n",
    "import urllib.request\n",
    "import numpy as np\n",
    "import matplotlib.pyplot as plt\n",
    "from sklearn import datasets, linear_model\n",
    "from sklearn.metrics import mean_squared_error, r2_score\n",
    "from bs4 import BeautifulSoup\n",
    "import predict\n"
   ]
  },
  {
   "cell_type": "code",
   "execution_count": 12,
   "metadata": {},
   "outputs": [
    {
     "name": "stdout",
     "output_type": "stream",
     "text": [
      "Found pages:  51\n"
     ]
    }
   ],
   "source": [
    "main_url = 'https://www.otomoto.pl/osobowe/volkswagen/passat/b6-2005-2010/?search%5Bfilter_enum_fuel_type%5D%5B0%5D=diesel&search%5Bfilter_enum_damaged%5D=0&search%5Bcountry%5D='\n",
    "html = urllib.request.urlopen(main_url).read()\n",
    "soup = BeautifulSoup(html,\"lxml\")\n",
    "\n",
    "pages = int(soup.find_all('span', attrs={'class': 'page'})[-2].text)\n",
    "print('Found pages: ',pages)"
   ]
  },
  {
   "cell_type": "code",
   "execution_count": 13,
   "metadata": {
    "collapsed": false
   },
   "outputs": [
    {
     "name": "stdout",
     "output_type": "stream",
     "text": [
      "Page: 1 | Offers: 32\n"
     ]
    },
    {
     "name": "stdout",
     "output_type": "stream",
     "text": [
      "Page: 2 | Offers: 32\n"
     ]
    },
    {
     "name": "stdout",
     "output_type": "stream",
     "text": [
      "Page: 3 | Offers: 32\n"
     ]
    },
    {
     "name": "stdout",
     "output_type": "stream",
     "text": [
      "Page: 4 | Offers: 32\n"
     ]
    },
    {
     "name": "stdout",
     "output_type": "stream",
     "text": [
      "Page: 5 | Offers: 32\n"
     ]
    },
    {
     "name": "stdout",
     "output_type": "stream",
     "text": [
      "Page: 6 | Offers: 32\n"
     ]
    },
    {
     "name": "stdout",
     "output_type": "stream",
     "text": [
      "Page: 7 | Offers: 32\n"
     ]
    },
    {
     "name": "stdout",
     "output_type": "stream",
     "text": [
      "Page: 8 | Offers: 32\n"
     ]
    },
    {
     "name": "stdout",
     "output_type": "stream",
     "text": [
      "Page: 9 | Offers: 32\n"
     ]
    }
   ],
   "source": [
    "Xy = predict.collect_data(main_url)"
   ]
  },
  {
   "cell_type": "code",
   "execution_count": 14,
   "metadata": {},
   "outputs": [
    {
     "name": "stdout",
     "output_type": "stream",
     "text": [
      "(254, 4)\n[[   2007.  268500.    1896.   22900.]\n [   2006.  275000.    1968.   13000.]\n [   2007.  260000.    1968.   21900.]\n [   2008.  191200.    1968.   21900.]\n [   2007.  136000.    1968.   18900.]\n [   2006.  390694.    1968.   19900.]\n [   2007.  287000.    1896.   19800.]\n [   2009.  170000.    1968.   32800.]\n [   2006.  311000.    1968.   19100.]\n [   2006.  235000.    1896.   20900.]]\n\nTotal samples:  254\nTraining samples: 178\nTest samples: 76\n"
     ]
    }
   ],
   "source": [
    "print(Xy.shape)\n",
    "print(Xy[-10:])\n",
    "\n",
    "X_train, y_train, X_test, y_test = predict.split_data(Xy, percent_of_test_data) \n",
    "\n",
    "#print(X.shape)\n",
    "#print(y.shape)"
   ]
  },
  {
   "cell_type": "code",
   "execution_count": 15,
   "metadata": {
    "collapsed": false
   },
   "outputs": [
    {
     "name": "stdout",
     "output_type": "stream",
     "text": [
      "Interceptor:  [-5052798.184726]\nCoefficients:  [[2529.514178 0.000122 -0.985463]]\n"
     ]
    }
   ],
   "source": [
    "regr = linear_model.LinearRegression(normalize=True)\n",
    "regr.fit(X_train, y_train)\n",
    "\n",
    "np.set_printoptions(formatter={'float_kind':'{:f}'.format})\n",
    "print('Interceptor: ',regr.intercept_)\n",
    "print('Coefficients: ', regr.coef_)"
   ]
  },
  {
   "cell_type": "code",
   "execution_count": 16,
   "metadata": {},
   "outputs": [
    {
     "name": "stdout",
     "output_type": "stream",
     "text": [
      "Variance score: 0.45\n"
     ]
    }
   ],
   "source": [
    "y_pred = regr.predict(X_test)\n",
    "\n",
    "#print(\"Mean squared error: %.2f\" % mean_squared_error(y_test, y_pred))\n",
    "print('Variance score: %.2f' % r2_score(y_test, y_pred))"
   ]
  },
  {
   "cell_type": "code",
   "execution_count": 17,
   "metadata": {},
   "outputs": [
    {
     "name": "stdout",
     "output_type": "stream",
     "text": [
      "The best price for your Passat B6 is 29607.83 PLN\n"
     ]
    }
   ],
   "source": [
    "price_pred = regr.predict([[2010,180000, 1968]])\n",
    "print('The best price for your Passat B6 is '+str(round(price_pred[0][0],2))+' PLN')"
   ]
  }
 ],
 "metadata": {
  "kernelspec": {
   "display_name": "Python 2",
   "language": "python",
   "name": "python2"
  },
  "language_info": {
   "codemirror_mode": {
    "name": "ipython",
    "version": 2
   },
   "file_extension": ".py",
   "mimetype": "text/x-python",
   "name": "python",
   "nbconvert_exporter": "python",
   "pygments_lexer": "ipython2",
   "version": "2.7.6"
  }
 },
 "nbformat": 4,
 "nbformat_minor": 0
}
