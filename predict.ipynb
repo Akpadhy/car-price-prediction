{
 "cells": [
  {
   "cell_type": "code",
   "execution_count": 110,
   "metadata": {},
   "outputs": [],
   "source": [
    "percent_of_test_data = 30\n",
    "main_url = 'https://www.otomoto.pl/osobowe/volkswagen/passat/b6-2005-2010/?search%5Bfilter_enum_fuel_type%5D%5B0%5D=diesel&search%5Bfilter_enum_damaged%5D=0&search%5Bcountry%5D='"
   ]
  },
  {
   "cell_type": "code",
   "execution_count": 69,
   "metadata": {
    "collapsed": true
   },
   "outputs": [],
   "source": [
    "import pandas as pd\n",
    "import urllib.request\n",
    "import numpy as np\n",
    "import matplotlib.pyplot as plt\n",
    "from sklearn import datasets, linear_model\n",
    "from sklearn.metrics import mean_squared_error, r2_score\n",
    "from bs4 import BeautifulSoup"
   ]
  },
  {
   "cell_type": "code",
   "execution_count": 70,
   "metadata": {},
   "outputs": [
    {
     "name": "stdout",
     "output_type": "stream",
     "text": [
      "Found pages:  50\n"
     ]
    }
   ],
   "source": [
    "#with urllib.request.urlopen(url) as response:\n",
    "html = urllib.request.urlopen(main_url).read()\n",
    "soup = BeautifulSoup(html,\"lxml\")\n",
    "\n",
    "pages = int(soup.find_all('span', attrs={'class': 'page'})[-2].text)\n",
    "print('Found pages: ',pages)"
   ]
  },
  {
   "cell_type": "code",
   "execution_count": 97,
   "metadata": {
    "collapsed": false
   },
   "outputs": [
    {
     "name": "stdout",
     "output_type": "stream",
     "text": [
      "Page: 1 | Offers: 32\n"
     ]
    },
    {
     "name": "stdout",
     "output_type": "stream",
     "text": [
      "Page: 2 | Offers: 32\n"
     ]
    },
    {
     "name": "stdout",
     "output_type": "stream",
     "text": [
      "Page: 3 | Offers: 32\n"
     ]
    },
    {
     "name": "stdout",
     "output_type": "stream",
     "text": [
      "Page: 4 | Offers: 32\n"
     ]
    },
    {
     "name": "stdout",
     "output_type": "stream",
     "text": [
      "Page: 5 | Offers: 32\n"
     ]
    },
    {
     "name": "stdout",
     "output_type": "stream",
     "text": [
      "Page: 6 | Offers: 32\n"
     ]
    },
    {
     "name": "stdout",
     "output_type": "stream",
     "text": [
      "Page: 7 | Offers: 32\n"
     ]
    },
    {
     "name": "stdout",
     "output_type": "stream",
     "text": [
      "Page: 8 | Offers: 32\n"
     ]
    },
    {
     "name": "stdout",
     "output_type": "stream",
     "text": [
      "Page: 9 | Offers: 32\n"
     ]
    },
    {
     "name": "stdout",
     "output_type": "stream",
     "text": [
      "Page: 10 | Offers: 32\n"
     ]
    },
    {
     "name": "stdout",
     "output_type": "stream",
     "text": [
      "Page: 11 | Offers: 32\n"
     ]
    },
    {
     "name": "stdout",
     "output_type": "stream",
     "text": [
      "Page: 12 | Offers: 32\n"
     ]
    },
    {
     "name": "stdout",
     "output_type": "stream",
     "text": [
      "Page: 13 | Offers: 32\n"
     ]
    },
    {
     "name": "stdout",
     "output_type": "stream",
     "text": [
      "Page: 14 | Offers: 32\n"
     ]
    },
    {
     "name": "stdout",
     "output_type": "stream",
     "text": [
      "Page: 15 | Offers: 32\n"
     ]
    },
    {
     "name": "stdout",
     "output_type": "stream",
     "text": [
      "Page: 16 | Offers: 32\n"
     ]
    },
    {
     "name": "stdout",
     "output_type": "stream",
     "text": [
      "Page: 17 | Offers: 32\n"
     ]
    },
    {
     "name": "stdout",
     "output_type": "stream",
     "text": [
      "Page: 18 | Offers: 32\n"
     ]
    },
    {
     "name": "stdout",
     "output_type": "stream",
     "text": [
      "Page: 19 | Offers: 32\n"
     ]
    },
    {
     "name": "stdout",
     "output_type": "stream",
     "text": [
      "Page: 20 | Offers: 32\n"
     ]
    },
    {
     "name": "stdout",
     "output_type": "stream",
     "text": [
      "Page: 21 | Offers: 32\n"
     ]
    },
    {
     "name": "stdout",
     "output_type": "stream",
     "text": [
      "Page: 22 | Offers: 32\n"
     ]
    },
    {
     "name": "stdout",
     "output_type": "stream",
     "text": [
      "Page: 23 | Offers: 32\n"
     ]
    },
    {
     "name": "stdout",
     "output_type": "stream",
     "text": [
      "Page: 24 | Offers: 32\n"
     ]
    },
    {
     "name": "stdout",
     "output_type": "stream",
     "text": [
      "Page: 25 | Offers: 32\n"
     ]
    },
    {
     "name": "stdout",
     "output_type": "stream",
     "text": [
      "Page: 26 | Offers: 32\n"
     ]
    },
    {
     "name": "stdout",
     "output_type": "stream",
     "text": [
      "Page: 27 | Offers: 32\n"
     ]
    },
    {
     "name": "stdout",
     "output_type": "stream",
     "text": [
      "Page: 28 | Offers: 32\n"
     ]
    },
    {
     "name": "stdout",
     "output_type": "stream",
     "text": [
      "Page: 29 | Offers: 32\n"
     ]
    },
    {
     "name": "stdout",
     "output_type": "stream",
     "text": [
      "Page: 30 | Offers: 32\n"
     ]
    },
    {
     "name": "stdout",
     "output_type": "stream",
     "text": [
      "Page: 31 | Offers: 32\n"
     ]
    },
    {
     "name": "stdout",
     "output_type": "stream",
     "text": [
      "Page: 32 | Offers: 32\n"
     ]
    },
    {
     "name": "stdout",
     "output_type": "stream",
     "text": [
      "Page: 33 | Offers: 32\n"
     ]
    },
    {
     "name": "stdout",
     "output_type": "stream",
     "text": [
      "Page: 34 | Offers: 32\n"
     ]
    },
    {
     "name": "stdout",
     "output_type": "stream",
     "text": [
      "Page: 35 | Offers: 32\n"
     ]
    },
    {
     "name": "stdout",
     "output_type": "stream",
     "text": [
      "Page: 36 | Offers: 32\n"
     ]
    },
    {
     "name": "stdout",
     "output_type": "stream",
     "text": [
      "Page: 37 | Offers: 32\n"
     ]
    },
    {
     "name": "stdout",
     "output_type": "stream",
     "text": [
      "Page: 38 | Offers: 32\n"
     ]
    },
    {
     "name": "stdout",
     "output_type": "stream",
     "text": [
      "Page: 39 | Offers: 32\n"
     ]
    }
   ],
   "source": [
    "Xy = np.empty((0, 4))\n",
    "\n",
    "for page in range(1,10): #pages+1):\n",
    "    url = main_url+'&page='+str(page)    \n",
    "    html = html+urllib.request.urlopen(url).read()\n",
    "    soup = BeautifulSoup(html,\"lxml\")\n",
    "    \n",
    "    articles = soup.find_all('article')\n",
    "    print('Page: '+str(page)+' | Offers: '+str(len(articles)))\n",
    "\n",
    "    for article in articles:        \n",
    "        #year\n",
    "        year_tag = article.find(\"li\", attrs={'data-code': 'year'})\n",
    "        if (year_tag == None):\n",
    "            continue\n",
    "        year = int(year_tag.text)        \n",
    "        #mileage\n",
    "        mileage_tag = article.find(\"li\", attrs={'data-code': 'mileage'})\n",
    "        if (mileage_tag == None):\n",
    "            continue\n",
    "        mileage = int(mileage_tag.span.text.replace(' ', '')[:-2])\n",
    "        # capacity\n",
    "        capacity_tag = article.find(\"li\", attrs={'data-code': 'engine_capacity'})\n",
    "        if (capacity_tag == None):\n",
    "            continue\n",
    "        capacity = int(capacity_tag.span.text.replace(' ', '')[:-3])\n",
    "        if capacity<1896: capacity = 1598\n",
    "        elif capacity >= 1896 and capacity < 1968: capacity =  1896\n",
    "        else: capacity = 1968             \n",
    "        # price\n",
    "        price_tag = article.find(\"span\", attrs={'class': 'offer-price__number'})\n",
    "        if (price_tag == None):\n",
    "            continue\n",
    "        price = int(price_tag.contents[0].replace(' ', ''))\n",
    "        Xy = np.append(Xy, [[year, mileage, capacity, price]], axis=0)"
   ]
  },
  {
   "cell_type": "code",
   "execution_count": 98,
   "metadata": {},
   "outputs": [
    {
     "name": "stdout",
     "output_type": "stream",
     "text": [
      "\nTotal samples:  1170\nTraining samples: 819\nTest samples: 351\n"
     ]
    }
   ],
   "source": [
    "n = len(Xy)\n",
    "print('\\nTotal samples: ',n)\n",
    "\n",
    "#print(Xv[-10:])\n",
    "np.random.shuffle(Xy)\n",
    "\n",
    "n_train = round((100 - percent_of_test_data) / 100 * n)\n",
    "n_test = n - n_train\n",
    "\n",
    "[Xy_train, Xy_test, _] = np.split(Xy, [n_train, n_train + n_test])\n",
    "\n",
    "print('Training samples: %d' % len(Xy_train))\n",
    "print('Test samples: %d' % len(Xy_test))\n",
    "\n",
    "X_train = Xy_train[:,[0,1,2]]\n",
    "y_train = Xy_train[:,[3]]\n",
    "\n",
    "X_test = Xy_test[:,[0,1,2]]\n",
    "y_test = Xy_test[:,[3]]\n",
    "\n",
    "#print(X.shape)\n",
    "#print(y.shape)"
   ]
  },
  {
   "cell_type": "code",
   "execution_count": 108,
   "metadata": {
    "collapsed": false
   },
   "outputs": [
    {
     "name": "stdout",
     "output_type": "stream",
     "text": [
      "Coefficients: \n [[  2.22518100e+03  -2.69006247e-02   6.13379556e-01]]\n"
     ]
    },
    {
     "data": {
      "text/plain": [
       "array([-4439030.37977308])"
      ]
     },
     "execution_count": 108,
     "metadata": {},
     "output_type": "execute_result"
    }
   ],
   "source": [
    "regr = linear_model.LinearRegression()\n",
    "regr.fit(X_train, y_train)\n",
    "print('Coefficients: \\n', regr.coef_)\n",
    "regr.intercept_"
   ]
  },
  {
   "cell_type": "code",
   "execution_count": 100,
   "metadata": {},
   "outputs": [
    {
     "name": "stdout",
     "output_type": "stream",
     "text": [
      "Mean squared error: 5821733.32\nVariance score: 0.70\n"
     ]
    }
   ],
   "source": [
    "y_pred = regr.predict(X_test)\n",
    "\n",
    "print(\"Mean squared error: %.2f\"\n",
    "      % mean_squared_error(y_test, y_pred))\n",
    "print('Variance score: %.2f' % r2_score(y_test, y_pred))"
   ]
  },
  {
   "cell_type": "code",
   "execution_count": 106,
   "metadata": {},
   "outputs": [
    {
     "name": "stdout",
     "output_type": "stream",
     "text": [
      "29948.45 PLN\n"
     ]
    }
   ],
   "source": [
    "price_pred = regr.predict([[2010,180000, 1968]])\n",
    "print(str(round(price_pred[0][0],2))+' PLN')"
   ]
  }
 ],
 "metadata": {
  "kernelspec": {
   "display_name": "Python 2",
   "language": "python",
   "name": "python2"
  },
  "language_info": {
   "codemirror_mode": {
    "name": "ipython",
    "version": 2
   },
   "file_extension": ".py",
   "mimetype": "text/x-python",
   "name": "python",
   "nbconvert_exporter": "python",
   "pygments_lexer": "ipython2",
   "version": "2.7.6"
  }
 },
 "nbformat": 4,
 "nbformat_minor": 0
}
