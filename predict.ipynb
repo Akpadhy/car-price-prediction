{
 "cells": [
  {
   "cell_type": "code",
   "execution_count": 1,
   "metadata": {},
   "outputs": [],
   "source": [
    "percent_of_test_data = 30"
   ]
  },
  {
   "cell_type": "code",
   "execution_count": 2,
   "metadata": {
    "collapsed": true
   },
   "outputs": [
    {
     "name": "stdout",
     "output_type": "stream",
     "text": [
      "['', 'c:\\\\users\\\\tomek\\\\appdata\\\\local\\\\programs\\\\python\\\\python36-32\\\\python36.zip', 'c:\\\\users\\\\tomek\\\\appdata\\\\local\\\\programs\\\\python\\\\python36-32\\\\DLLs', 'c:\\\\users\\\\tomek\\\\appdata\\\\local\\\\programs\\\\python\\\\python36-32\\\\lib', 'c:\\\\users\\\\tomek\\\\appdata\\\\local\\\\programs\\\\python\\\\python36-32', 'c:\\\\users\\\\tomek\\\\appdata\\\\local\\\\programs\\\\python\\\\python36-32\\\\lib\\\\site-packages', 'c:\\\\users\\\\tomek\\\\appdata\\\\local\\\\programs\\\\python\\\\python36-32\\\\lib\\\\site-packages\\\\IPython\\\\extensions', 'C:\\\\Users\\\\tomek\\\\.ipython', '/Users/tomek/OneDrive/Projects/Machine Learning/passat-b6-tdi']\n"
     ]
    }
   ],
   "source": [
    "import sys\n",
    "sys.path.append('/Users/tomek/OneDrive/Projects/Machine Learning/passat-b6-tdi')\n",
    "\n",
    "import urllib.request\n",
    "import numpy as np\n",
    "import matplotlib.pyplot as plt\n",
    "from sklearn import datasets, linear_model\n",
    "from sklearn.metrics import mean_squared_error, r2_score\n",
    "from bs4 import BeautifulSoup\n",
    "import predict\n",
    "\n",
    "print(sys.path)\n"
   ]
  },
  {
   "cell_type": "code",
   "execution_count": 3,
   "metadata": {},
   "outputs": [
    {
     "name": "stdout",
     "output_type": "stream",
     "text": [
      "Found pages:  51\n"
     ]
    }
   ],
   "source": [
    "main_url = 'https://www.otomoto.pl/osobowe/volkswagen/passat/b6-2005-2010/?search%5Bfilter_enum_fuel_type%5D%5B0%5D=diesel&search%5Bfilter_enum_damaged%5D=0&search%5Bcountry%5D='\n",
    "html = urllib.request.urlopen(main_url).read()\n",
    "soup = BeautifulSoup(html,\"lxml\")\n",
    "\n",
    "pages = int(soup.find_all('span', attrs={'class': 'page'})[-2].text)\n",
    "print('Found pages: ',pages)"
   ]
  },
  {
   "cell_type": "code",
   "execution_count": 4,
   "metadata": {
    "collapsed": false
   },
   "outputs": [
    {
     "name": "stdout",
     "output_type": "stream",
     "text": [
      "Page: 1 | Offers: 32\n"
     ]
    },
    {
     "name": "stdout",
     "output_type": "stream",
     "text": [
      "Page: 2 | Offers: 32\n"
     ]
    },
    {
     "name": "stdout",
     "output_type": "stream",
     "text": [
      "Page: 3 | Offers: 32\n"
     ]
    },
    {
     "name": "stdout",
     "output_type": "stream",
     "text": [
      "Page: 4 | Offers: 32\n"
     ]
    },
    {
     "name": "stdout",
     "output_type": "stream",
     "text": [
      "Page: 5 | Offers: 32\n"
     ]
    },
    {
     "name": "stdout",
     "output_type": "stream",
     "text": [
      "Page: 6 | Offers: 32\n"
     ]
    },
    {
     "name": "stdout",
     "output_type": "stream",
     "text": [
      "Page: 7 | Offers: 32\n"
     ]
    },
    {
     "name": "stdout",
     "output_type": "stream",
     "text": [
      "Page: 8 | Offers: 32\n"
     ]
    },
    {
     "name": "stdout",
     "output_type": "stream",
     "text": [
      "Page: 9 | Offers: 32\n"
     ]
    }
   ],
   "source": [
    "Xy = predict.collect_data(main_url)"
   ]
  },
  {
   "cell_type": "code",
   "execution_count": 8,
   "metadata": {},
   "outputs": [
    {
     "name": "stdout",
     "output_type": "stream",
     "text": [
      "(254, 4)\n[[   2009.  233000.    1968.   29900.]\n [   2005.  209000.    1968.   17400.]\n [   2006.  247000.    1968.   26000.]\n [   2007.   34000.    1896.   23900.]\n [   2005.  158351.    1896.   15200.]\n [   2007.  200673.    1968.   19000.]\n [   2007.  236500.    1968.   22000.]\n [   2007.  219000.    1896.   19900.]\n [   2007.  127673.    1968.   31000.]\n [   2007.  182277.    1968.   22900.]]\n\nTotal samples:  254\nTraining samples: 178\nTest samples: 76\n"
     ]
    }
   ],
   "source": [
    "print(Xy.shape)\n",
    "print(Xy[-10:])\n",
    "\n",
    "X_train, y_train, X_test, y_test = predict.split_data(Xy, percent_of_test_data) \n",
    "\n",
    "#print(X.shape)\n",
    "#print(y.shape)"
   ]
  },
  {
   "cell_type": "code",
   "execution_count": 135,
   "metadata": {
    "collapsed": false
   },
   "outputs": [
    {
     "name": "stdout",
     "output_type": "stream",
     "text": [
      "Interceptor:  [-4496755.400145]\nCoefficients:  [[2253.339482 -0.028307 1.415770]]\n"
     ]
    }
   ],
   "source": [
    "regr = linear_model.LinearRegression(normalize=True)\n",
    "regr.fit(X_train, y_train)\n",
    "\n",
    "np.set_printoptions(formatter={'float_kind':'{:f}'.format})\n",
    "print('Interceptor: ',regr.intercept_)\n",
    "print('Coefficients: ', regr.coef_)"
   ]
  },
  {
   "cell_type": "code",
   "execution_count": 136,
   "metadata": {},
   "outputs": [
    {
     "name": "stdout",
     "output_type": "stream",
     "text": [
      "Variance score: 0.68\n"
     ]
    }
   ],
   "source": [
    "y_pred = regr.predict(X_test)\n",
    "\n",
    "#print(\"Mean squared error: %.2f\" % mean_squared_error(y_test, y_pred))\n",
    "print('Variance score: %.2f' % r2_score(y_test, y_pred))"
   ]
  },
  {
   "cell_type": "code",
   "execution_count": 137,
   "metadata": {},
   "outputs": [
    {
     "name": "stdout",
     "output_type": "stream",
     "text": [
      "The best price for your Passat B6 is 30148.01 PLN\n"
     ]
    }
   ],
   "source": [
    "price_pred = regr.predict([[2010,180000, 1968]])\n",
    "print('The best price for your Passat B6 is '+str(round(price_pred[0][0],2))+' PLN')"
   ]
  }
 ],
 "metadata": {
  "kernelspec": {
   "display_name": "Python 2",
   "language": "python",
   "name": "python2"
  },
  "language_info": {
   "codemirror_mode": {
    "name": "ipython",
    "version": 2
   },
   "file_extension": ".py",
   "mimetype": "text/x-python",
   "name": "python",
   "nbconvert_exporter": "python",
   "pygments_lexer": "ipython2",
   "version": "2.7.6"
  }
 },
 "nbformat": 4,
 "nbformat_minor": 0
}
